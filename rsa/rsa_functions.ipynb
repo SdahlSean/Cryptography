{
 "cells": [
  {
   "cell_type": "code",
   "execution_count": 1,
   "metadata": {},
   "outputs": [],
   "source": [
    "import random\n",
    "import math"
   ]
  },
  {
   "cell_type": "code",
   "execution_count": 2,
   "metadata": {},
   "outputs": [],
   "source": [
    "def eea(ri_2, ri_1):\n",
    "    s_1 = 1; t_1 = 0\n",
    "    s_0 = 0; t_0 = 1\n",
    "    i = 1\n",
    "    ri_0 = None\n",
    "    while ri_0 != 0:\n",
    "        i += 1\n",
    "        ri_0 = ri_2 % ri_1\n",
    "        q = (ri_2 - ri_0) // ri_1\n",
    "        s_1, s_0 = s_0, s_1 - q * s_0\n",
    "        t_1, t_0 = t_0, t_1 - q * t_0\n",
    "        ri_2, ri_1 = ri_1, ri_0\n",
    "    return ri_2, s_1, t_1"
   ]
  },
  {
   "cell_type": "code",
   "execution_count": 3,
   "metadata": {},
   "outputs": [],
   "source": [
    "def even_fact(p):\n",
    "    r = p - 1\n",
    "    u = 0\n",
    "    while r % 2 == 0 and r != 1:\n",
    "        u += 1\n",
    "        r //= 2\n",
    "    return u, r"
   ]
  },
  {
   "cell_type": "code",
   "execution_count": 4,
   "metadata": {},
   "outputs": [],
   "source": [
    "def mrt(p, s):\n",
    "    u, r = even_fact(p)\n",
    "    for _ in range(s):\n",
    "        a = random.randint(2, p-2)\n",
    "        z = a ** r % p\n",
    "        if z != 1 and z != p - 1:\n",
    "            j = 1\n",
    "            while j < u and z != p - 1:\n",
    "                z = z ** 2 % p\n",
    "                if z == 1:\n",
    "                    return False\n",
    "                j += 1\n",
    "            if z != p - 1:\n",
    "                return False\n",
    "    return True"
   ]
  },
  {
   "cell_type": "code",
   "execution_count": 5,
   "metadata": {},
   "outputs": [],
   "source": [
    "def generate_key(n_bits=1024, s=None):\n",
    "    if s is None:\n",
    "        if n_bits < 400:\n",
    "            if n_bits < 250:\n",
    "                s = 100\n",
    "            elif n_bits < 300:\n",
    "                s = 11\n",
    "            else:\n",
    "                s = 9\n",
    "        else:\n",
    "            if n_bits < 500:\n",
    "                s = 6\n",
    "            elif n_bits < 600:\n",
    "                s = 5\n",
    "            else:\n",
    "                s = 3\n",
    "    p = 2 * random.randint(int(2 ** (n_bits - 2)), int(2 ** (n_bits - 1))) - 1\n",
    "    while not mrt(p, s):\n",
    "        p = 2 * random.randint(int(2 ** (n_bits - 2)), int(2 ** (n_bits - 1))) - 1\n",
    "    q = 2 * random.randint(int(2 ** (n_bits - 2)), int(2 ** (n_bits - 1))) - 1\n",
    "    while not mrt(q, s) or p == q:\n",
    "        q = 2 * random.randint(int(2 ** (n_bits - 2)), int(2 ** (n_bits - 1))) - 1\n",
    "    n = p * q\n",
    "    phi_n = (p - 1) * (q - 1)\n",
    "    e = (2**16 + 1) % phi_n\n",
    "    _, _, d = eea(phi_n, e)\n",
    "    d %= phi_n\n",
    "    return ((n, e), (n, d))"
   ]
  },
  {
   "cell_type": "code",
   "execution_count": 6,
   "metadata": {},
   "outputs": [],
   "source": [
    "def gcd(a, b):\n",
    "    while b != 0:\n",
    "        b, a = a % b, b\n",
    "    return a"
   ]
  },
  {
   "cell_type": "code",
   "execution_count": 7,
   "metadata": {},
   "outputs": [],
   "source": [
    "def is_prime(n):\n",
    "    if n == 2:\n",
    "        return True\n",
    "    if n < 2 or n % 2 == 0:\n",
    "        return False\n",
    "    for i in range(3, int(n**(0.5)) + 1, 2):\n",
    "        if n % i == 0:\n",
    "            return False\n",
    "    return True"
   ]
  },
  {
   "cell_type": "code",
   "execution_count": 8,
   "metadata": {},
   "outputs": [],
   "source": [
    "def validate_key(p, q, e):\n",
    "    if p == q:\n",
    "        raise ValueError('p and q must be different')\n",
    "    if not is_prime(p) or not is_prime(q):\n",
    "        raise ValueError('p and q must be prime')\n",
    "    if not gcd((p - 1) * (q - 1), e) == 1:\n",
    "        raise ValueError('the greates common divisor of phi_n and e must be 1')\n",
    "    return True"
   ]
  },
  {
   "cell_type": "code",
   "execution_count": 9,
   "metadata": {},
   "outputs": [],
   "source": [
    "def compute_key(p, q, e):\n",
    "    validate_key(p, q, e)\n",
    "    n = p * q\n",
    "    phi_n = (p - 1) * (q - 1)\n",
    "    _, _, d = eea(phi_n, e)\n",
    "    return ((n, e), (n, d))"
   ]
  },
  {
   "cell_type": "code",
   "execution_count": 10,
   "metadata": {},
   "outputs": [],
   "source": [
    "encrypt = lambda x, n, e: x ** e % n"
   ]
  },
  {
   "cell_type": "code",
   "execution_count": 11,
   "metadata": {},
   "outputs": [],
   "source": [
    "decrypt = lambda y, n, d: y ** d % n"
   ]
  }
 ],
 "metadata": {
  "kernelspec": {
   "display_name": "Python 3",
   "language": "python",
   "name": "python3"
  },
  "language_info": {
   "codemirror_mode": {
    "name": "ipython",
    "version": 3
   },
   "file_extension": ".py",
   "mimetype": "text/x-python",
   "name": "python",
   "nbconvert_exporter": "python",
   "pygments_lexer": "ipython3",
   "version": "3.7.4"
  }
 },
 "nbformat": 4,
 "nbformat_minor": 2
}
